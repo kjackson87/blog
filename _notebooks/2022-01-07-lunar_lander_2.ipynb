{
 "cells": [
  {
   "cell_type": "markdown",
   "metadata": {},
   "source": [
    "# Lunar Lander with Deep Q-Network (Part 2)\n",
    "\n",
    "- toc: true \n",
    "- badges: true\n",
    "- comments: false\n",
    "- categories: [dqn, rl]"
   ]
  },
  {
   "cell_type": "markdown",
   "metadata": {},
   "source": [
    "# Recap\n",
    "\n",
    "> Note: The first part of this series can be found at [Part 1](/dqn/rl/2021/12/29/lunar_lander)\n",
    "\n",
    "In the first part of this series, we implemented a DQN agent using the built in state output from the Gym environment. This state gives data on position, velociy, lander angle, and if either feet of the lander are touching the ground. For this second part, we'll up the ante and remove the state information, instead inferring state from the raw pixels of the game image."
   ]
  }
 ],
 "metadata": {
  "language_info": {
   "name": "python"
  },
  "orig_nbformat": 4
 },
 "nbformat": 4,
 "nbformat_minor": 2
}
