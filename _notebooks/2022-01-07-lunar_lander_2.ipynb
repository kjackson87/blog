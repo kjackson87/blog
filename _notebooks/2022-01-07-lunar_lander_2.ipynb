{
  "cells": [
    {
      "cell_type": "markdown",
      "metadata": {
        "id": "view-in-github",
        "colab_type": "text"
      },
      "source": [
        "<a href=\"https://colab.research.google.com/github/kjackson87/blog/blob/lunar_lander_2/_notebooks/2022-01-07-lunar_lander_2.ipynb\" target=\"_parent\"><img src=\"https://colab.research.google.com/assets/colab-badge.svg\" alt=\"Open In Colab\"/></a>"
      ]
    },
    {
      "cell_type": "markdown",
      "metadata": {
        "id": "Aew68x0jdFFW"
      },
      "source": [
        "# Lunar Lander with Deep Q-Network (Part 2)\n",
        "\n",
        "- toc: true \n",
        "- badges: true\n",
        "- comments: false\n",
        "- categories: [dqn, rl]"
      ]
    },
    {
      "cell_type": "markdown",
      "metadata": {
        "id": "NGHgaeafdFFZ"
      },
      "source": [
        "# Recap\n",
        "\n",
        "> Note: The first part of this series can be found at [Part 1](/dqn/rl/2021/12/29/lunar_lander)\n",
        "\n",
        "In the first part of this series, we implemented a DQN agent using the built in state output from the Gym environment. This state gives data on position, velociy, lander angle, and if either feet of the lander are touching the ground. For this second part, we'll up the ante and remove the state information, instead inferring state from the raw pixels of the game image.\n",
        "\n",
        "We'll once again begin with imports as before."
      ]
    },
    {
      "cell_type": "code",
      "execution_count": 14,
      "metadata": {
        "id": "n_RwzqaIdFFa",
        "outputId": "95cf5c93-5662-4bf1-8512-0ce508f919f2",
        "colab": {
          "base_uri": "https://localhost:8080/"
        }
      },
      "outputs": [
        {
          "output_type": "stream",
          "name": "stdout",
          "text": [
            "Requirement already satisfied: box2d in /usr/local/lib/python3.7/dist-packages (2.3.10)\n"
          ]
        }
      ],
      "source": [
        "import gym\n",
        "import torch\n",
        "import torch.nn as nn\n",
        "import torch.nn.functional as F\n",
        "import pandas as pd\n",
        "import random\n",
        "import numpy as np\n",
        "import matplotlib\n",
        "import matplotlib.pyplot as plt\n",
        "from itertools import count\n",
        "from collections import deque, namedtuple\n",
        "COLAB = 'google.colab' in str(get_ipython())\n",
        "if COLAB:\n",
        "  !pip install box2d\n",
        "\n",
        "is_ipython = 'inline' in matplotlib.get_backend()\n",
        "if is_ipython:\n",
        "  from IPython import display"
      ]
    },
    {
      "cell_type": "code",
      "source": [
        "SEED = 42"
      ],
      "metadata": {
        "id": "sxRu-A75dJRd"
      },
      "execution_count": 15,
      "outputs": []
    },
    {
      "cell_type": "markdown",
      "source": [
        "Add the ReplayMemory class as before to handle our Experience Replay."
      ],
      "metadata": {
        "id": "0X_nimp1-1Tu"
      }
    },
    {
      "cell_type": "code",
      "source": [
        "Experience = namedtuple(\"Experience\", field_names=[\n",
        "                        \"state\", \"action\", \"reward\", \"next_state\", \"done\"])\n",
        "\n",
        "\n",
        "class ReplayMemory(object):\n",
        "\n",
        "\n",
        "  def __init__(self, buffer_size, batch_size, seed, device):\n",
        "    self.memory = deque(maxlen=buffer_size)\n",
        "    self.batch_size = batch_size\n",
        "    self.seed = random.seed(seed)\n",
        "    self.device = device\n",
        "\n",
        "  def push(self, *args):\n",
        "    torch_args = [torch.tensor([arg]).to(self.device) for arg in args]\n",
        "    self.memory.append(Experience(*torch_args))\n",
        "\n",
        "  def sample(self, device):\n",
        "    \"\"\" \n",
        "    Sample a set memories.\n",
        "    \"\"\"\n",
        "    experiences = random.sample(self.memory, k=self.batch_size)\n",
        "\n",
        "    states = torch.from_numpy(\n",
        "        np.vstack([e.state for e in experiences if e is not None])).float().to(self.device)\n",
        "    actions = torch.from_numpy(\n",
        "        np.vstack([e.action for e in experiences if e is not None])).long().to(self.device)\n",
        "    rewards = torch.from_numpy(\n",
        "        np.vstack([e.reward for e in experiences if e is not None])).float().to(self.device)\n",
        "    next_states = torch.from_numpy(np.vstack(\n",
        "        [e.next_state for e in experiences if e is not None])).float().to(self.device)\n",
        "    dones = torch.from_numpy(np.vstack(\n",
        "        [e.done for e in experiences if e is not None]).astype(np.uint8)).float().to(self.device)\n",
        "\n",
        "    return (states, actions, rewards, next_states, dones)\n",
        "\n",
        "  def __len__(self):\n",
        "    return len(self.memory)\n",
        "\n",
        "  def __repr__(self):\n",
        "    return repr(self.memory)\n",
        "\n",
        "  def __str__(self):\n",
        "    return str(self.memory)\n"
      ],
      "metadata": {
        "id": "gKNWZL8t-9qf"
      },
      "execution_count": 30,
      "outputs": []
    },
    {
      "cell_type": "markdown",
      "source": [
        "Our agent is the same as before, with a couple minor refactorings. One of the changes added uses a new Meter class, introduced to capture the loss during the lifecycle of the agent."
      ],
      "metadata": {
        "id": "X7cvVkA3_4xj"
      }
    },
    {
      "cell_type": "code",
      "source": [
        "class Meter():\n",
        "  def __init__(self, name):\n",
        "    self.name = name\n",
        "    self.reset()\n",
        "\n",
        "  def reset(self):\n",
        "    self.values = []\n",
        "\n",
        "  def update(self, val):\n",
        "    self.values.append(val)\n",
        "\n",
        "  def plot(self, ax=None):\n",
        "    if ax == None:\n",
        "      fig, ax = plt.subplots()\n",
        "    ax.plot(self.values)\n",
        "    ax.set_title(self.name)\n",
        "    return ax\n",
        "  \n",
        "  def __len__(self):\n",
        "    return len(self.values)\n",
        "\n",
        "  def __repr__(self):\n",
        "    return repr(self.values)\n",
        "\n",
        "class SMAMeter(Meter):\n",
        "  def __init__(self, name, window=5):\n",
        "      super().__init__(name)\n",
        "      self.window = window\n",
        "      self.averages = []\n",
        "\n",
        "  def update(self, val):\n",
        "    super().update(val)\n",
        "    if len(self.values) < self.window:\n",
        "      self.averages.append(np.nan)\n",
        "    else:\n",
        "      self.averages.append(np.average(self.values[-self.window:]))\n",
        "\n",
        "  def plot(self, ax=None):\n",
        "    ax = super().plot(ax)\n",
        "    ax.plot(self.averages)"
      ],
      "metadata": {
        "id": "Kb8awJBXCvgb"
      },
      "execution_count": 51,
      "outputs": []
    },
    {
      "cell_type": "code",
      "source": [
        "class DQNAgent():\n",
        "\n",
        "\n",
        "  def __init__(\n",
        "      self,\n",
        "      state_vector_length,\n",
        "      action_space,\n",
        "      alpha=.001,\n",
        "      eps=1,\n",
        "      eps_decay=0.995,\n",
        "      eps_min=0.05,\n",
        "      gamma=0.9,\n",
        "      batch_size=64,\n",
        "      seed=None\n",
        "  ):\n",
        "    self.action_space = action_space\n",
        "    self.eps = eps\n",
        "    self.eps_decay = eps_decay\n",
        "    self.eps_min = eps_min\n",
        "    self.gamma = gamma\n",
        "    self.device = torch.device(\"cuda\" if torch.cuda.is_available() else \"cpu\")\n",
        "\n",
        "    self.step = 0\n",
        "    self.policy_net = DQN(state_vector_length, action_space.n).to(self.device)\n",
        "    self.target_net = DQN(state_vector_length, action_space.n).to(self.device)\n",
        "    self.target_net.load_state_dict(self.policy_net.state_dict())\n",
        "    self.target_net.eval()\n",
        "    self.optimizer = torch.optim.Adam(\n",
        "        params=self.policy_net.parameters(), lr=alpha)\n",
        "    self.loss_meter = Meter('Loss')\n",
        "\n",
        "    self.memory = ReplayMemory(100000, batch_size, seed, self.device)\n",
        "\n",
        "    if seed != None:\n",
        "      np.random.seed(seed)\n",
        "\n",
        "  def select_action(self, s):\n",
        "    self.step += 1\n",
        "    if np.random.random() < self.eps:\n",
        "      action = self.action_space.sample()\n",
        "    else:\n",
        "      action = self._get_best_action(s)\n",
        "\n",
        "    return action\n",
        "\n",
        "  def _get_best_action(self, s):\n",
        "    with torch.no_grad():\n",
        "      state = torch.tensor([s]).to(self.device)\n",
        "      action = self.policy_net(state).argmax(dim=1).to(self.device).item()\n",
        "    return action\n",
        "\n",
        "  def update_q(self, s, a, r, s_prime, done):\n",
        "    self.memory.push(s, a, r, s_prime, done)\n",
        "\n",
        "    if done:\n",
        "      self.eps = max(self.eps_min, self.eps * self.eps_decay)\n",
        "\n",
        "    if len(self.memory) > self.memory.batch_size:\n",
        "      experiences = self.memory.sample(self.device)\n",
        "      self.learn(experiences)\n",
        "\n",
        "  def learn(self, experiences):\n",
        "    states, actions, rewards, next_states, dones = experiences\n",
        "\n",
        "    next_q_values = self.target_net(\n",
        "        next_states).detach().max(1)[0].unsqueeze(1)\n",
        "    q_targets = rewards + self.gamma * next_q_values * (1 - dones)\n",
        "    current_q_values = self.policy_net(states).gather(1, actions)\n",
        "\n",
        "    loss = F.mse_loss(current_q_values, q_targets)\n",
        "    self.loss_meter.update(loss.item())\n",
        "    self.optimizer.zero_grad()\n",
        "    loss.backward()\n",
        "    self.optimizer.step()\n",
        "\n",
        "  def update_target(self):\n",
        "    self.target_net.load_state_dict(self.policy_net.state_dict())"
      ],
      "metadata": {
        "id": "yGn6_Jx5_-fa"
      },
      "execution_count": 52,
      "outputs": []
    },
    {
      "cell_type": "markdown",
      "source": [
        "And finally our runner."
      ],
      "metadata": {
        "id": "tktNPWatD9NP"
      }
    },
    {
      "cell_type": "code",
      "source": [
        "def lander_runner(num_episodes, target_update, alpha, eps, eps_decay, gamma, seed, convergence_threshold=200, render=False):\n",
        "  env = gym.make('LunarLander-v2')\n",
        "  env.seed(SEED)\n",
        "  agent = DQNAgent(env.observation_space.shape[0], env.action_space,\n",
        "                   alpha=alpha, eps=eps, eps_decay=eps_decay, gamma=gamma, seed=SEED)\n",
        "\n",
        "  rewards = SMAMeter('Rewards', window=100)\n",
        "\n",
        "  for e in range(num_episodes):\n",
        "    cur_observation = env.reset()\n",
        "    if render: env.render()\n",
        "    episode_reward = 0\n",
        "    for t in count():\n",
        "      action = agent.select_action(cur_observation)\n",
        "      next_observation, reward, done, info = env.step(action)\n",
        "      agent.update_q(cur_observation, action, reward, next_observation, done)\n",
        "      cur_observation = next_observation\n",
        "      episode_reward += reward\n",
        "      if render: env.render()\n",
        "      if done:\n",
        "        rewards.update(episode_reward)\n",
        "        rewards.plot()\n",
        "        plt.pause(0.01)\n",
        "        print(f'Episode {e} finished after {t+1} timesteps with total reward {episode_reward}')\n",
        "        if is_ipython:\n",
        "          display.clear_output(wait=True)\n",
        "        break\n",
        "    if e % target_update == 0:\n",
        "      agent.update_target()\n",
        "    if len(rewards) > 100 and np.all(np.array(rewards.averages[-100:]) >= convergence_threshold):\n",
        "      print(f'Solved in {e} episodes.')\n",
        "      break\n",
        "\n",
        "  env.close()\n",
        "  agent.loss_meter.plot()\n",
        "  return rewards, agent"
      ],
      "metadata": {
        "id": "Q6wr5IMQECkP"
      },
      "execution_count": 53,
      "outputs": []
    },
    {
      "cell_type": "code",
      "source": [
        "class DQN(nn.Module):\n",
        "    \n",
        "\n",
        "  def __init__(self, inputs, outputs):\n",
        "    super().__init__()\n",
        "\n",
        "    self.fc1 = nn.Linear(in_features=inputs, out_features=64)\n",
        "    self.fc2 = nn.Linear(in_features=64, out_features=64)\n",
        "    self.fc3 = nn.Linear(in_features=64, out_features=64)\n",
        "    self.fc4 = nn.Linear(in_features=64, out_features=32)\n",
        "    self.out = nn.Linear(in_features=32, out_features=outputs)\n",
        "\n",
        "  def forward(self, t):\n",
        "    t = F.relu(self.fc1(t))\n",
        "    t = F.relu(self.fc2(t))\n",
        "    t = F.relu(self.fc3(t))\n",
        "    t = F.relu(self.fc4(t))\n",
        "    t = self.out(t)\n",
        "    return t\n"
      ],
      "metadata": {
        "id": "G7a499h_GFOn"
      },
      "execution_count": 54,
      "outputs": []
    },
    {
      "cell_type": "code",
      "source": [
        "run_rewards, agent = lander_runner(\n",
        "    num_episodes=1500,\n",
        "    target_update=4,\n",
        "    alpha=0.0005,\n",
        "    eps=1,\n",
        "    eps_decay=0.99,\n",
        "    gamma=0.999,\n",
        "    seed=57,\n",
        "    convergence_threshold=210\n",
        ")"
      ],
      "metadata": {
        "id": "Lp3SKooTGAL9",
        "outputId": "f4ef7d73-837e-4d78-be7c-62b413ef778f",
        "colab": {
          "base_uri": "https://localhost:8080/",
          "height": 298
        }
      },
      "execution_count": null,
      "outputs": [
        {
          "output_type": "display_data",
          "data": {
            "image/png": "[encoded data removed]",
            "text/plain": [
              "<Figure size 432x288 with 1 Axes>"
            ]
          },
          "metadata": {
            "needs_background": "light"
          }
        },
        {
          "output_type": "stream",
          "name": "stdout",
          "text": [
            "Episode 158 finished after 1000 timesteps with total reward -8.11829653051472\n"
          ]
        }
      ]
    }
  ],
  "metadata": {
    "language_info": {
      "name": "python"
    },
    "orig_nbformat": 4,
    "colab": {
      "name": "2022-01-07-lunar_lander_2.ipynb",
      "provenance": [],
      "include_colab_link": true
    },
    "kernelspec": {
      "name": "python3",
      "display_name": "Python 3"
    }
  },
  "nbformat": 4,
  "nbformat_minor": 0
}