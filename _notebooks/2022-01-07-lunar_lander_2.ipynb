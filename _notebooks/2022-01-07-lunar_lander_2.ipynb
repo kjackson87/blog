{
  "cells": [
    {
      "cell_type": "markdown",
      "metadata": {
        "id": "Aew68x0jdFFW"
      },
      "source": [
        "# Lunar Lander with Deep Q-Network (Part 2)\n",
        "\n",
        "- toc: true \n",
        "- badges: true\n",
        "- comments: false\n",
        "- categories: [dqn, rl]"
      ]
    },
    {
      "cell_type": "markdown",
      "metadata": {
        "id": "NGHgaeafdFFZ"
      },
      "source": [
        "# Recap\n",
        "\n",
        "> Note: The first part of this series can be found at [Part 1](/dqn/rl/2021/12/29/lunar_lander)\n",
        "\n",
        "In the first part of this series, we implemented a DQN agent using the built in state output from the Gym environment. This state gives data on position, velociy, lander angle, and if either feet of the lander are touching the ground. For this second part, we'll up the ante and remove the state information, instead inferring state from the raw pixels of the game image.\n",
        "\n",
        "We'll once again begin with imports as before."
      ]
    },
    {
      "cell_type": "code",
      "execution_count": null,
      "metadata": {
        "id": "n_RwzqaIdFFa"
      },
      "outputs": [],
      "source": [
        "import gym\n",
        "import torch\n",
        "import torch.nn as nn\n",
        "import torch.nn.functional as F\n",
        "import pandas as pd\n",
        "import random\n",
        "import numpy as np\n",
        "import matplotlib\n",
        "import matplotlib.pyplot as plt\n",
        "from itertools import count\n",
        "from collections import deque, namedtuple\n",
        "COLAB = 'google.colab' in str(get_ipython())\n",
        "if COLAB:\n",
        "  !pip install box2d\n",
        "\n",
        "is_ipython = 'inline' in matplotlib.get_backend()\n",
        "if is_ipython:\n",
        "  from IPython import display"
      ]
    },
    {
      "cell_type": "code",
      "source": [
        "SEED = 42"
      ],
      "metadata": {
        "id": "sxRu-A75dJRd"
      },
      "execution_count": null,
      "outputs": []
    }
  ],
  "metadata": {
    "language_info": {
      "name": "python"
    },
    "orig_nbformat": 4,
    "colab": {
      "name": "2022-01-07-lunar_lander_2.ipynb",
      "provenance": []
    }
  },
  "nbformat": 4,
  "nbformat_minor": 0
}